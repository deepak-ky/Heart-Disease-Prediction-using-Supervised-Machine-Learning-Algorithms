{
 "cells": [
  {
   "cell_type": "code",
   "execution_count": 1,
   "id": "4ca4786a",
   "metadata": {},
   "outputs": [],
   "source": [
    "import pandas as pd\n",
    "import numpy as np\n",
    "from sklearn.metrics import accuracy_score\n",
    "from sklearn import metrics"
   ]
  },
  {
   "cell_type": "code",
   "execution_count": 2,
   "id": "62d94e7d",
   "metadata": {},
   "outputs": [],
   "source": [
    "heart_Data = pd.read_csv('heart.csv')"
   ]
  },
  {
   "cell_type": "code",
   "execution_count": 3,
   "id": "6c0a5fe1",
   "metadata": {},
   "outputs": [
    {
     "data": {
      "text/html": [
       "<div>\n",
       "<style scoped>\n",
       "    .dataframe tbody tr th:only-of-type {\n",
       "        vertical-align: middle;\n",
       "    }\n",
       "\n",
       "    .dataframe tbody tr th {\n",
       "        vertical-align: top;\n",
       "    }\n",
       "\n",
       "    .dataframe thead th {\n",
       "        text-align: right;\n",
       "    }\n",
       "</style>\n",
       "<table border=\"1\" class=\"dataframe\">\n",
       "  <thead>\n",
       "    <tr style=\"text-align: right;\">\n",
       "      <th></th>\n",
       "      <th>age</th>\n",
       "      <th>sex</th>\n",
       "      <th>cp</th>\n",
       "      <th>trestbps</th>\n",
       "      <th>chol</th>\n",
       "      <th>fbs</th>\n",
       "      <th>restecg</th>\n",
       "      <th>thalach</th>\n",
       "      <th>exang</th>\n",
       "      <th>oldpeak</th>\n",
       "      <th>slope</th>\n",
       "      <th>ca</th>\n",
       "      <th>thal</th>\n",
       "      <th>target</th>\n",
       "    </tr>\n",
       "  </thead>\n",
       "  <tbody>\n",
       "    <tr>\n",
       "      <th>0</th>\n",
       "      <td>52</td>\n",
       "      <td>1</td>\n",
       "      <td>0</td>\n",
       "      <td>125</td>\n",
       "      <td>212</td>\n",
       "      <td>0</td>\n",
       "      <td>1</td>\n",
       "      <td>168</td>\n",
       "      <td>0</td>\n",
       "      <td>1.0</td>\n",
       "      <td>2</td>\n",
       "      <td>2</td>\n",
       "      <td>3</td>\n",
       "      <td>0</td>\n",
       "    </tr>\n",
       "    <tr>\n",
       "      <th>1</th>\n",
       "      <td>53</td>\n",
       "      <td>1</td>\n",
       "      <td>0</td>\n",
       "      <td>140</td>\n",
       "      <td>203</td>\n",
       "      <td>1</td>\n",
       "      <td>0</td>\n",
       "      <td>155</td>\n",
       "      <td>1</td>\n",
       "      <td>3.1</td>\n",
       "      <td>0</td>\n",
       "      <td>0</td>\n",
       "      <td>3</td>\n",
       "      <td>0</td>\n",
       "    </tr>\n",
       "    <tr>\n",
       "      <th>2</th>\n",
       "      <td>70</td>\n",
       "      <td>1</td>\n",
       "      <td>0</td>\n",
       "      <td>145</td>\n",
       "      <td>174</td>\n",
       "      <td>0</td>\n",
       "      <td>1</td>\n",
       "      <td>125</td>\n",
       "      <td>1</td>\n",
       "      <td>2.6</td>\n",
       "      <td>0</td>\n",
       "      <td>0</td>\n",
       "      <td>3</td>\n",
       "      <td>0</td>\n",
       "    </tr>\n",
       "    <tr>\n",
       "      <th>3</th>\n",
       "      <td>61</td>\n",
       "      <td>1</td>\n",
       "      <td>0</td>\n",
       "      <td>148</td>\n",
       "      <td>203</td>\n",
       "      <td>0</td>\n",
       "      <td>1</td>\n",
       "      <td>161</td>\n",
       "      <td>0</td>\n",
       "      <td>0.0</td>\n",
       "      <td>2</td>\n",
       "      <td>1</td>\n",
       "      <td>3</td>\n",
       "      <td>0</td>\n",
       "    </tr>\n",
       "    <tr>\n",
       "      <th>4</th>\n",
       "      <td>62</td>\n",
       "      <td>0</td>\n",
       "      <td>0</td>\n",
       "      <td>138</td>\n",
       "      <td>294</td>\n",
       "      <td>1</td>\n",
       "      <td>1</td>\n",
       "      <td>106</td>\n",
       "      <td>0</td>\n",
       "      <td>1.9</td>\n",
       "      <td>1</td>\n",
       "      <td>3</td>\n",
       "      <td>2</td>\n",
       "      <td>0</td>\n",
       "    </tr>\n",
       "  </tbody>\n",
       "</table>\n",
       "</div>"
      ],
      "text/plain": [
       "   age  sex  cp  trestbps  chol  fbs  restecg  thalach  exang  oldpeak  slope  \\\n",
       "0   52    1   0       125   212    0        1      168      0      1.0      2   \n",
       "1   53    1   0       140   203    1        0      155      1      3.1      0   \n",
       "2   70    1   0       145   174    0        1      125      1      2.6      0   \n",
       "3   61    1   0       148   203    0        1      161      0      0.0      2   \n",
       "4   62    0   0       138   294    1        1      106      0      1.9      1   \n",
       "\n",
       "   ca  thal  target  \n",
       "0   2     3       0  \n",
       "1   0     3       0  \n",
       "2   0     3       0  \n",
       "3   1     3       0  \n",
       "4   3     2       0  "
      ]
     },
     "execution_count": 3,
     "metadata": {},
     "output_type": "execute_result"
    }
   ],
   "source": [
    "heart_Data.head()"
   ]
  },
  {
   "cell_type": "code",
   "execution_count": 4,
   "id": "cc3962e6",
   "metadata": {},
   "outputs": [
    {
     "name": "stdout",
     "output_type": "stream",
     "text": [
      "<class 'pandas.core.frame.DataFrame'>\n",
      "RangeIndex: 1025 entries, 0 to 1024\n",
      "Data columns (total 14 columns):\n",
      " #   Column    Non-Null Count  Dtype  \n",
      "---  ------    --------------  -----  \n",
      " 0   age       1025 non-null   int64  \n",
      " 1   sex       1025 non-null   int64  \n",
      " 2   cp        1025 non-null   int64  \n",
      " 3   trestbps  1025 non-null   int64  \n",
      " 4   chol      1025 non-null   int64  \n",
      " 5   fbs       1025 non-null   int64  \n",
      " 6   restecg   1025 non-null   int64  \n",
      " 7   thalach   1025 non-null   int64  \n",
      " 8   exang     1025 non-null   int64  \n",
      " 9   oldpeak   1025 non-null   float64\n",
      " 10  slope     1025 non-null   int64  \n",
      " 11  ca        1025 non-null   int64  \n",
      " 12  thal      1025 non-null   int64  \n",
      " 13  target    1025 non-null   int64  \n",
      "dtypes: float64(1), int64(13)\n",
      "memory usage: 112.2 KB\n"
     ]
    }
   ],
   "source": [
    "heart_Data.info()"
   ]
  },
  {
   "cell_type": "code",
   "execution_count": 5,
   "id": "f459888e",
   "metadata": {},
   "outputs": [
    {
     "data": {
      "text/html": [
       "<div>\n",
       "<style scoped>\n",
       "    .dataframe tbody tr th:only-of-type {\n",
       "        vertical-align: middle;\n",
       "    }\n",
       "\n",
       "    .dataframe tbody tr th {\n",
       "        vertical-align: top;\n",
       "    }\n",
       "\n",
       "    .dataframe thead th {\n",
       "        text-align: right;\n",
       "    }\n",
       "</style>\n",
       "<table border=\"1\" class=\"dataframe\">\n",
       "  <thead>\n",
       "    <tr style=\"text-align: right;\">\n",
       "      <th></th>\n",
       "      <th>age</th>\n",
       "      <th>sex</th>\n",
       "      <th>cp</th>\n",
       "      <th>trestbps</th>\n",
       "      <th>chol</th>\n",
       "      <th>fbs</th>\n",
       "      <th>restecg</th>\n",
       "      <th>thalach</th>\n",
       "      <th>exang</th>\n",
       "      <th>oldpeak</th>\n",
       "      <th>slope</th>\n",
       "      <th>ca</th>\n",
       "      <th>thal</th>\n",
       "      <th>target</th>\n",
       "    </tr>\n",
       "  </thead>\n",
       "  <tbody>\n",
       "    <tr>\n",
       "      <th>count</th>\n",
       "      <td>1025.000000</td>\n",
       "      <td>1025.000000</td>\n",
       "      <td>1025.000000</td>\n",
       "      <td>1025.000000</td>\n",
       "      <td>1025.00000</td>\n",
       "      <td>1025.000000</td>\n",
       "      <td>1025.000000</td>\n",
       "      <td>1025.000000</td>\n",
       "      <td>1025.000000</td>\n",
       "      <td>1025.000000</td>\n",
       "      <td>1025.000000</td>\n",
       "      <td>1025.000000</td>\n",
       "      <td>1025.000000</td>\n",
       "      <td>1025.000000</td>\n",
       "    </tr>\n",
       "    <tr>\n",
       "      <th>mean</th>\n",
       "      <td>54.434146</td>\n",
       "      <td>0.695610</td>\n",
       "      <td>0.942439</td>\n",
       "      <td>131.611707</td>\n",
       "      <td>246.00000</td>\n",
       "      <td>0.149268</td>\n",
       "      <td>0.529756</td>\n",
       "      <td>149.114146</td>\n",
       "      <td>0.336585</td>\n",
       "      <td>1.071512</td>\n",
       "      <td>1.385366</td>\n",
       "      <td>0.754146</td>\n",
       "      <td>2.323902</td>\n",
       "      <td>0.513171</td>\n",
       "    </tr>\n",
       "    <tr>\n",
       "      <th>std</th>\n",
       "      <td>9.072290</td>\n",
       "      <td>0.460373</td>\n",
       "      <td>1.029641</td>\n",
       "      <td>17.516718</td>\n",
       "      <td>51.59251</td>\n",
       "      <td>0.356527</td>\n",
       "      <td>0.527878</td>\n",
       "      <td>23.005724</td>\n",
       "      <td>0.472772</td>\n",
       "      <td>1.175053</td>\n",
       "      <td>0.617755</td>\n",
       "      <td>1.030798</td>\n",
       "      <td>0.620660</td>\n",
       "      <td>0.500070</td>\n",
       "    </tr>\n",
       "    <tr>\n",
       "      <th>min</th>\n",
       "      <td>29.000000</td>\n",
       "      <td>0.000000</td>\n",
       "      <td>0.000000</td>\n",
       "      <td>94.000000</td>\n",
       "      <td>126.00000</td>\n",
       "      <td>0.000000</td>\n",
       "      <td>0.000000</td>\n",
       "      <td>71.000000</td>\n",
       "      <td>0.000000</td>\n",
       "      <td>0.000000</td>\n",
       "      <td>0.000000</td>\n",
       "      <td>0.000000</td>\n",
       "      <td>0.000000</td>\n",
       "      <td>0.000000</td>\n",
       "    </tr>\n",
       "    <tr>\n",
       "      <th>25%</th>\n",
       "      <td>48.000000</td>\n",
       "      <td>0.000000</td>\n",
       "      <td>0.000000</td>\n",
       "      <td>120.000000</td>\n",
       "      <td>211.00000</td>\n",
       "      <td>0.000000</td>\n",
       "      <td>0.000000</td>\n",
       "      <td>132.000000</td>\n",
       "      <td>0.000000</td>\n",
       "      <td>0.000000</td>\n",
       "      <td>1.000000</td>\n",
       "      <td>0.000000</td>\n",
       "      <td>2.000000</td>\n",
       "      <td>0.000000</td>\n",
       "    </tr>\n",
       "    <tr>\n",
       "      <th>50%</th>\n",
       "      <td>56.000000</td>\n",
       "      <td>1.000000</td>\n",
       "      <td>1.000000</td>\n",
       "      <td>130.000000</td>\n",
       "      <td>240.00000</td>\n",
       "      <td>0.000000</td>\n",
       "      <td>1.000000</td>\n",
       "      <td>152.000000</td>\n",
       "      <td>0.000000</td>\n",
       "      <td>0.800000</td>\n",
       "      <td>1.000000</td>\n",
       "      <td>0.000000</td>\n",
       "      <td>2.000000</td>\n",
       "      <td>1.000000</td>\n",
       "    </tr>\n",
       "    <tr>\n",
       "      <th>75%</th>\n",
       "      <td>61.000000</td>\n",
       "      <td>1.000000</td>\n",
       "      <td>2.000000</td>\n",
       "      <td>140.000000</td>\n",
       "      <td>275.00000</td>\n",
       "      <td>0.000000</td>\n",
       "      <td>1.000000</td>\n",
       "      <td>166.000000</td>\n",
       "      <td>1.000000</td>\n",
       "      <td>1.800000</td>\n",
       "      <td>2.000000</td>\n",
       "      <td>1.000000</td>\n",
       "      <td>3.000000</td>\n",
       "      <td>1.000000</td>\n",
       "    </tr>\n",
       "    <tr>\n",
       "      <th>max</th>\n",
       "      <td>77.000000</td>\n",
       "      <td>1.000000</td>\n",
       "      <td>3.000000</td>\n",
       "      <td>200.000000</td>\n",
       "      <td>564.00000</td>\n",
       "      <td>1.000000</td>\n",
       "      <td>2.000000</td>\n",
       "      <td>202.000000</td>\n",
       "      <td>1.000000</td>\n",
       "      <td>6.200000</td>\n",
       "      <td>2.000000</td>\n",
       "      <td>4.000000</td>\n",
       "      <td>3.000000</td>\n",
       "      <td>1.000000</td>\n",
       "    </tr>\n",
       "  </tbody>\n",
       "</table>\n",
       "</div>"
      ],
      "text/plain": [
       "               age          sex           cp     trestbps        chol  \\\n",
       "count  1025.000000  1025.000000  1025.000000  1025.000000  1025.00000   \n",
       "mean     54.434146     0.695610     0.942439   131.611707   246.00000   \n",
       "std       9.072290     0.460373     1.029641    17.516718    51.59251   \n",
       "min      29.000000     0.000000     0.000000    94.000000   126.00000   \n",
       "25%      48.000000     0.000000     0.000000   120.000000   211.00000   \n",
       "50%      56.000000     1.000000     1.000000   130.000000   240.00000   \n",
       "75%      61.000000     1.000000     2.000000   140.000000   275.00000   \n",
       "max      77.000000     1.000000     3.000000   200.000000   564.00000   \n",
       "\n",
       "               fbs      restecg      thalach        exang      oldpeak  \\\n",
       "count  1025.000000  1025.000000  1025.000000  1025.000000  1025.000000   \n",
       "mean      0.149268     0.529756   149.114146     0.336585     1.071512   \n",
       "std       0.356527     0.527878    23.005724     0.472772     1.175053   \n",
       "min       0.000000     0.000000    71.000000     0.000000     0.000000   \n",
       "25%       0.000000     0.000000   132.000000     0.000000     0.000000   \n",
       "50%       0.000000     1.000000   152.000000     0.000000     0.800000   \n",
       "75%       0.000000     1.000000   166.000000     1.000000     1.800000   \n",
       "max       1.000000     2.000000   202.000000     1.000000     6.200000   \n",
       "\n",
       "             slope           ca         thal       target  \n",
       "count  1025.000000  1025.000000  1025.000000  1025.000000  \n",
       "mean      1.385366     0.754146     2.323902     0.513171  \n",
       "std       0.617755     1.030798     0.620660     0.500070  \n",
       "min       0.000000     0.000000     0.000000     0.000000  \n",
       "25%       1.000000     0.000000     2.000000     0.000000  \n",
       "50%       1.000000     0.000000     2.000000     1.000000  \n",
       "75%       2.000000     1.000000     3.000000     1.000000  \n",
       "max       2.000000     4.000000     3.000000     1.000000  "
      ]
     },
     "execution_count": 5,
     "metadata": {},
     "output_type": "execute_result"
    }
   ],
   "source": [
    "heart_Data.describe()"
   ]
  },
  {
   "cell_type": "code",
   "execution_count": 6,
   "id": "90164020",
   "metadata": {},
   "outputs": [
    {
     "data": {
      "text/plain": [
       "age         0\n",
       "sex         0\n",
       "cp          0\n",
       "trestbps    0\n",
       "chol        0\n",
       "fbs         0\n",
       "restecg     0\n",
       "thalach     0\n",
       "exang       0\n",
       "oldpeak     0\n",
       "slope       0\n",
       "ca          0\n",
       "thal        0\n",
       "target      0\n",
       "dtype: int64"
      ]
     },
     "execution_count": 6,
     "metadata": {},
     "output_type": "execute_result"
    }
   ],
   "source": [
    "heart_Data.isnull().sum()"
   ]
  },
  {
   "cell_type": "code",
   "execution_count": 7,
   "id": "1197ef9c",
   "metadata": {},
   "outputs": [
    {
     "data": {
      "text/plain": [
       "0    497\n",
       "2    284\n",
       "1    167\n",
       "3     77\n",
       "Name: cp, dtype: int64"
      ]
     },
     "execution_count": 7,
     "metadata": {},
     "output_type": "execute_result"
    }
   ],
   "source": [
    "heart_Data['cp'].value_counts()"
   ]
  },
  {
   "cell_type": "code",
   "execution_count": 8,
   "id": "798d763f",
   "metadata": {},
   "outputs": [
    {
     "data": {
      "text/plain": [
       "1    513\n",
       "0    497\n",
       "2     15\n",
       "Name: restecg, dtype: int64"
      ]
     },
     "execution_count": 8,
     "metadata": {},
     "output_type": "execute_result"
    }
   ],
   "source": [
    "heart_Data['restecg'].value_counts()"
   ]
  },
  {
   "cell_type": "code",
   "execution_count": 9,
   "id": "53b77c83",
   "metadata": {},
   "outputs": [
    {
     "data": {
      "text/plain": [
       "0    578\n",
       "1    226\n",
       "2    134\n",
       "3     69\n",
       "4     18\n",
       "Name: ca, dtype: int64"
      ]
     },
     "execution_count": 9,
     "metadata": {},
     "output_type": "execute_result"
    }
   ],
   "source": [
    "heart_Data['ca'].value_counts()"
   ]
  },
  {
   "cell_type": "code",
   "execution_count": 10,
   "id": "da7ef637",
   "metadata": {},
   "outputs": [
    {
     "data": {
      "text/plain": [
       "2    544\n",
       "3    410\n",
       "1     64\n",
       "0      7\n",
       "Name: thal, dtype: int64"
      ]
     },
     "execution_count": 10,
     "metadata": {},
     "output_type": "execute_result"
    }
   ],
   "source": [
    "heart_Data['thal'].value_counts()"
   ]
  },
  {
   "cell_type": "code",
   "execution_count": 11,
   "id": "fe990588",
   "metadata": {},
   "outputs": [
    {
     "data": {
      "text/plain": [
       "1    482\n",
       "2    469\n",
       "0     74\n",
       "Name: slope, dtype: int64"
      ]
     },
     "execution_count": 11,
     "metadata": {},
     "output_type": "execute_result"
    }
   ],
   "source": [
    "heart_Data['slope'].value_counts()"
   ]
  },
  {
   "cell_type": "markdown",
   "id": "8913b677",
   "metadata": {},
   "source": [
    "### Dummies using panda to convert categorical data into one hot encoding"
   ]
  },
  {
   "cell_type": "code",
   "execution_count": 12,
   "id": "0c5fd7c7",
   "metadata": {},
   "outputs": [],
   "source": [
    "heart_Data = pd.get_dummies(heart_Data,columns=['cp','ca','restecg','thal','slope'])"
   ]
  },
  {
   "cell_type": "code",
   "execution_count": 13,
   "id": "691ebd92",
   "metadata": {},
   "outputs": [
    {
     "data": {
      "text/html": [
       "<div>\n",
       "<style scoped>\n",
       "    .dataframe tbody tr th:only-of-type {\n",
       "        vertical-align: middle;\n",
       "    }\n",
       "\n",
       "    .dataframe tbody tr th {\n",
       "        vertical-align: top;\n",
       "    }\n",
       "\n",
       "    .dataframe thead th {\n",
       "        text-align: right;\n",
       "    }\n",
       "</style>\n",
       "<table border=\"1\" class=\"dataframe\">\n",
       "  <thead>\n",
       "    <tr style=\"text-align: right;\">\n",
       "      <th></th>\n",
       "      <th>age</th>\n",
       "      <th>sex</th>\n",
       "      <th>trestbps</th>\n",
       "      <th>chol</th>\n",
       "      <th>fbs</th>\n",
       "      <th>thalach</th>\n",
       "      <th>exang</th>\n",
       "      <th>oldpeak</th>\n",
       "      <th>target</th>\n",
       "      <th>cp_0</th>\n",
       "      <th>...</th>\n",
       "      <th>restecg_0</th>\n",
       "      <th>restecg_1</th>\n",
       "      <th>restecg_2</th>\n",
       "      <th>thal_0</th>\n",
       "      <th>thal_1</th>\n",
       "      <th>thal_2</th>\n",
       "      <th>thal_3</th>\n",
       "      <th>slope_0</th>\n",
       "      <th>slope_1</th>\n",
       "      <th>slope_2</th>\n",
       "    </tr>\n",
       "  </thead>\n",
       "  <tbody>\n",
       "    <tr>\n",
       "      <th>0</th>\n",
       "      <td>52</td>\n",
       "      <td>1</td>\n",
       "      <td>125</td>\n",
       "      <td>212</td>\n",
       "      <td>0</td>\n",
       "      <td>168</td>\n",
       "      <td>0</td>\n",
       "      <td>1.0</td>\n",
       "      <td>0</td>\n",
       "      <td>1</td>\n",
       "      <td>...</td>\n",
       "      <td>0</td>\n",
       "      <td>1</td>\n",
       "      <td>0</td>\n",
       "      <td>0</td>\n",
       "      <td>0</td>\n",
       "      <td>0</td>\n",
       "      <td>1</td>\n",
       "      <td>0</td>\n",
       "      <td>0</td>\n",
       "      <td>1</td>\n",
       "    </tr>\n",
       "    <tr>\n",
       "      <th>1</th>\n",
       "      <td>53</td>\n",
       "      <td>1</td>\n",
       "      <td>140</td>\n",
       "      <td>203</td>\n",
       "      <td>1</td>\n",
       "      <td>155</td>\n",
       "      <td>1</td>\n",
       "      <td>3.1</td>\n",
       "      <td>0</td>\n",
       "      <td>1</td>\n",
       "      <td>...</td>\n",
       "      <td>1</td>\n",
       "      <td>0</td>\n",
       "      <td>0</td>\n",
       "      <td>0</td>\n",
       "      <td>0</td>\n",
       "      <td>0</td>\n",
       "      <td>1</td>\n",
       "      <td>1</td>\n",
       "      <td>0</td>\n",
       "      <td>0</td>\n",
       "    </tr>\n",
       "    <tr>\n",
       "      <th>2</th>\n",
       "      <td>70</td>\n",
       "      <td>1</td>\n",
       "      <td>145</td>\n",
       "      <td>174</td>\n",
       "      <td>0</td>\n",
       "      <td>125</td>\n",
       "      <td>1</td>\n",
       "      <td>2.6</td>\n",
       "      <td>0</td>\n",
       "      <td>1</td>\n",
       "      <td>...</td>\n",
       "      <td>0</td>\n",
       "      <td>1</td>\n",
       "      <td>0</td>\n",
       "      <td>0</td>\n",
       "      <td>0</td>\n",
       "      <td>0</td>\n",
       "      <td>1</td>\n",
       "      <td>1</td>\n",
       "      <td>0</td>\n",
       "      <td>0</td>\n",
       "    </tr>\n",
       "    <tr>\n",
       "      <th>3</th>\n",
       "      <td>61</td>\n",
       "      <td>1</td>\n",
       "      <td>148</td>\n",
       "      <td>203</td>\n",
       "      <td>0</td>\n",
       "      <td>161</td>\n",
       "      <td>0</td>\n",
       "      <td>0.0</td>\n",
       "      <td>0</td>\n",
       "      <td>1</td>\n",
       "      <td>...</td>\n",
       "      <td>0</td>\n",
       "      <td>1</td>\n",
       "      <td>0</td>\n",
       "      <td>0</td>\n",
       "      <td>0</td>\n",
       "      <td>0</td>\n",
       "      <td>1</td>\n",
       "      <td>0</td>\n",
       "      <td>0</td>\n",
       "      <td>1</td>\n",
       "    </tr>\n",
       "    <tr>\n",
       "      <th>4</th>\n",
       "      <td>62</td>\n",
       "      <td>0</td>\n",
       "      <td>138</td>\n",
       "      <td>294</td>\n",
       "      <td>1</td>\n",
       "      <td>106</td>\n",
       "      <td>0</td>\n",
       "      <td>1.9</td>\n",
       "      <td>0</td>\n",
       "      <td>1</td>\n",
       "      <td>...</td>\n",
       "      <td>0</td>\n",
       "      <td>1</td>\n",
       "      <td>0</td>\n",
       "      <td>0</td>\n",
       "      <td>0</td>\n",
       "      <td>1</td>\n",
       "      <td>0</td>\n",
       "      <td>0</td>\n",
       "      <td>1</td>\n",
       "      <td>0</td>\n",
       "    </tr>\n",
       "  </tbody>\n",
       "</table>\n",
       "<p>5 rows × 28 columns</p>\n",
       "</div>"
      ],
      "text/plain": [
       "   age  sex  trestbps  chol  fbs  thalach  exang  oldpeak  target  cp_0  ...  \\\n",
       "0   52    1       125   212    0      168      0      1.0       0     1  ...   \n",
       "1   53    1       140   203    1      155      1      3.1       0     1  ...   \n",
       "2   70    1       145   174    0      125      1      2.6       0     1  ...   \n",
       "3   61    1       148   203    0      161      0      0.0       0     1  ...   \n",
       "4   62    0       138   294    1      106      0      1.9       0     1  ...   \n",
       "\n",
       "   restecg_0  restecg_1  restecg_2  thal_0  thal_1  thal_2  thal_3  slope_0  \\\n",
       "0          0          1          0       0       0       0       1        0   \n",
       "1          1          0          0       0       0       0       1        1   \n",
       "2          0          1          0       0       0       0       1        1   \n",
       "3          0          1          0       0       0       0       1        0   \n",
       "4          0          1          0       0       0       1       0        0   \n",
       "\n",
       "   slope_1  slope_2  \n",
       "0        0        1  \n",
       "1        0        0  \n",
       "2        0        0  \n",
       "3        0        1  \n",
       "4        1        0  \n",
       "\n",
       "[5 rows x 28 columns]"
      ]
     },
     "execution_count": 13,
     "metadata": {},
     "output_type": "execute_result"
    }
   ],
   "source": [
    "heart_Data.head()"
   ]
  },
  {
   "cell_type": "code",
   "execution_count": 14,
   "id": "f1453e8d",
   "metadata": {},
   "outputs": [],
   "source": [
    "numerical_cols = [\"age\",\"trestbps\",\"chol\",\"thalach\",\"oldpeak\"]\n",
    "categorical_cols =  list(set(heart_Data.columns) - set(numerical_cols) - {\"target\"})"
   ]
  },
  {
   "cell_type": "code",
   "execution_count": 15,
   "id": "d7e66267",
   "metadata": {},
   "outputs": [
    {
     "data": {
      "text/plain": [
       "['age', 'trestbps', 'chol', 'thalach', 'oldpeak']"
      ]
     },
     "execution_count": 15,
     "metadata": {},
     "output_type": "execute_result"
    }
   ],
   "source": [
    "numerical_cols"
   ]
  },
  {
   "cell_type": "code",
   "execution_count": 16,
   "id": "3753b97d",
   "metadata": {},
   "outputs": [
    {
     "data": {
      "text/plain": [
       "['ca_3',\n",
       " 'thal_0',\n",
       " 'slope_2',\n",
       " 'slope_1',\n",
       " 'sex',\n",
       " 'ca_4',\n",
       " 'restecg_1',\n",
       " 'fbs',\n",
       " 'cp_3',\n",
       " 'restecg_2',\n",
       " 'thal_3',\n",
       " 'slope_0',\n",
       " 'ca_1',\n",
       " 'cp_2',\n",
       " 'thal_1',\n",
       " 'ca_2',\n",
       " 'cp_1',\n",
       " 'cp_0',\n",
       " 'ca_0',\n",
       " 'thal_2',\n",
       " 'exang',\n",
       " 'restecg_0']"
      ]
     },
     "execution_count": 16,
     "metadata": {},
     "output_type": "execute_result"
    }
   ],
   "source": [
    "categorical_cols"
   ]
  },
  {
   "cell_type": "markdown",
   "id": "055eb1b8",
   "metadata": {},
   "source": [
    "### Splitting the dataset"
   ]
  },
  {
   "cell_type": "code",
   "execution_count": 17,
   "id": "c0f31607",
   "metadata": {},
   "outputs": [],
   "source": [
    "from sklearn.model_selection import train_test_split\n",
    "heart_Data_train , heart_Data_test = train_test_split(heart_Data,test_size=0.2,random_state=42)"
   ]
  },
  {
   "cell_type": "code",
   "execution_count": 18,
   "id": "e2f2df57",
   "metadata": {},
   "outputs": [
    {
     "name": "stdout",
     "output_type": "stream",
     "text": [
      "<class 'pandas.core.frame.DataFrame'>\n",
      "Int64Index: 820 entries, 835 to 860\n",
      "Data columns (total 28 columns):\n",
      " #   Column     Non-Null Count  Dtype  \n",
      "---  ------     --------------  -----  \n",
      " 0   age        820 non-null    int64  \n",
      " 1   sex        820 non-null    int64  \n",
      " 2   trestbps   820 non-null    int64  \n",
      " 3   chol       820 non-null    int64  \n",
      " 4   fbs        820 non-null    int64  \n",
      " 5   thalach    820 non-null    int64  \n",
      " 6   exang      820 non-null    int64  \n",
      " 7   oldpeak    820 non-null    float64\n",
      " 8   target     820 non-null    int64  \n",
      " 9   cp_0       820 non-null    uint8  \n",
      " 10  cp_1       820 non-null    uint8  \n",
      " 11  cp_2       820 non-null    uint8  \n",
      " 12  cp_3       820 non-null    uint8  \n",
      " 13  ca_0       820 non-null    uint8  \n",
      " 14  ca_1       820 non-null    uint8  \n",
      " 15  ca_2       820 non-null    uint8  \n",
      " 16  ca_3       820 non-null    uint8  \n",
      " 17  ca_4       820 non-null    uint8  \n",
      " 18  restecg_0  820 non-null    uint8  \n",
      " 19  restecg_1  820 non-null    uint8  \n",
      " 20  restecg_2  820 non-null    uint8  \n",
      " 21  thal_0     820 non-null    uint8  \n",
      " 22  thal_1     820 non-null    uint8  \n",
      " 23  thal_2     820 non-null    uint8  \n",
      " 24  thal_3     820 non-null    uint8  \n",
      " 25  slope_0    820 non-null    uint8  \n",
      " 26  slope_1    820 non-null    uint8  \n",
      " 27  slope_2    820 non-null    uint8  \n",
      "dtypes: float64(1), int64(8), uint8(19)\n",
      "memory usage: 79.3 KB\n"
     ]
    }
   ],
   "source": [
    "heart_Data_train.info()"
   ]
  },
  {
   "cell_type": "code",
   "execution_count": 19,
   "id": "276937a3",
   "metadata": {},
   "outputs": [
    {
     "name": "stdout",
     "output_type": "stream",
     "text": [
      "<class 'pandas.core.frame.DataFrame'>\n",
      "Int64Index: 205 entries, 527 to 842\n",
      "Data columns (total 28 columns):\n",
      " #   Column     Non-Null Count  Dtype  \n",
      "---  ------     --------------  -----  \n",
      " 0   age        205 non-null    int64  \n",
      " 1   sex        205 non-null    int64  \n",
      " 2   trestbps   205 non-null    int64  \n",
      " 3   chol       205 non-null    int64  \n",
      " 4   fbs        205 non-null    int64  \n",
      " 5   thalach    205 non-null    int64  \n",
      " 6   exang      205 non-null    int64  \n",
      " 7   oldpeak    205 non-null    float64\n",
      " 8   target     205 non-null    int64  \n",
      " 9   cp_0       205 non-null    uint8  \n",
      " 10  cp_1       205 non-null    uint8  \n",
      " 11  cp_2       205 non-null    uint8  \n",
      " 12  cp_3       205 non-null    uint8  \n",
      " 13  ca_0       205 non-null    uint8  \n",
      " 14  ca_1       205 non-null    uint8  \n",
      " 15  ca_2       205 non-null    uint8  \n",
      " 16  ca_3       205 non-null    uint8  \n",
      " 17  ca_4       205 non-null    uint8  \n",
      " 18  restecg_0  205 non-null    uint8  \n",
      " 19  restecg_1  205 non-null    uint8  \n",
      " 20  restecg_2  205 non-null    uint8  \n",
      " 21  thal_0     205 non-null    uint8  \n",
      " 22  thal_1     205 non-null    uint8  \n",
      " 23  thal_2     205 non-null    uint8  \n",
      " 24  thal_3     205 non-null    uint8  \n",
      " 25  slope_0    205 non-null    uint8  \n",
      " 26  slope_1    205 non-null    uint8  \n",
      " 27  slope_2    205 non-null    uint8  \n",
      "dtypes: float64(1), int64(8), uint8(19)\n",
      "memory usage: 19.8 KB\n"
     ]
    }
   ],
   "source": [
    "heart_Data_test.info()"
   ]
  },
  {
   "cell_type": "code",
   "execution_count": 20,
   "id": "cd486137",
   "metadata": {},
   "outputs": [],
   "source": [
    "from sklearn.preprocessing import StandardScaler\n",
    "scaler = StandardScaler()\n",
    "def get_features_and_targets(heart_Data,numerical_cols,categorical_cols,scaler):\n",
    "    x_numerical_scaled = scaler.fit_transform(heart_Data[numerical_cols])\n",
    "    x_categorical = heart_Data[categorical_cols].to_numpy()\n",
    "    x = np.hstack((x_numerical_scaled,x_categorical))\n",
    "    y = heart_Data[\"target\"]\n",
    "    \n",
    "    return x,y"
   ]
  },
  {
   "cell_type": "code",
   "execution_count": 21,
   "id": "52e8d3c6",
   "metadata": {},
   "outputs": [],
   "source": [
    "x_train,y_train = get_features_and_targets(heart_Data_train,numerical_cols,categorical_cols,scaler)\n",
    "x_test,y_test = get_features_and_targets(heart_Data_test,numerical_cols,categorical_cols,scaler)"
   ]
  },
  {
   "cell_type": "markdown",
   "id": "d67c772b",
   "metadata": {},
   "source": [
    "### Logistic Regression"
   ]
  },
  {
   "cell_type": "code",
   "execution_count": 22,
   "id": "60338e29",
   "metadata": {},
   "outputs": [
    {
     "data": {
      "text/plain": [
       "LogisticRegression()"
      ]
     },
     "execution_count": 22,
     "metadata": {},
     "output_type": "execute_result"
    }
   ],
   "source": [
    "from sklearn.linear_model import LogisticRegression\n",
    "lr_model = LogisticRegression()\n",
    "lr_model.fit(x_train,y_train)"
   ]
  },
  {
   "cell_type": "code",
   "execution_count": 23,
   "id": "b1e12243",
   "metadata": {},
   "outputs": [
    {
     "name": "stdout",
     "output_type": "stream",
     "text": [
      "Accuracy : 82.92682926829268\n",
      "Precision : 78.33333333333333\n",
      "Recall : 91.2621359223301\n",
      "F-1 Score : 84.30493273542601\n",
      "\n",
      "\n",
      "              precision    recall  f1-score   support\n",
      "\n",
      "           0       0.89      0.75      0.81       102\n",
      "           1       0.78      0.91      0.84       103\n",
      "\n",
      "    accuracy                           0.83       205\n",
      "   macro avg       0.84      0.83      0.83       205\n",
      "weighted avg       0.84      0.83      0.83       205\n",
      "\n"
     ]
    }
   ],
   "source": [
    "lr_y_predict = lr_model.predict(x_test)\n",
    "lr_accuracy = accuracy_score(lr_y_predict,y_test)\n",
    "print(\"Accuracy : \" + str(lr_accuracy*100))\n",
    "lr_precision_positive = metrics.precision_score(y_test, lr_y_predict, pos_label=1)\n",
    "print(\"Precision : \" + str(lr_precision_positive*100))\n",
    "lr_recall_sensitivity = metrics.recall_score(y_test, lr_y_predict, pos_label=1)\n",
    "print(\"Recall : \" + str(lr_recall_sensitivity*100))\n",
    "lr_f1_positive = metrics.f1_score(y_test, lr_y_predict, pos_label=1)\n",
    "print(\"F-1 Score : \" + str(lr_f1_positive*100))\n",
    "print('\\n')\n",
    "print(metrics.classification_report(y_test, lr_y_predict))"
   ]
  },
  {
   "cell_type": "markdown",
   "id": "f30151ee",
   "metadata": {},
   "source": [
    "### Decision Tree"
   ]
  },
  {
   "cell_type": "code",
   "execution_count": 24,
   "id": "6d816662",
   "metadata": {},
   "outputs": [
    {
     "data": {
      "text/plain": [
       "DecisionTreeClassifier()"
      ]
     },
     "execution_count": 24,
     "metadata": {},
     "output_type": "execute_result"
    }
   ],
   "source": [
    "from sklearn.tree import DecisionTreeClassifier\n",
    "dt_model = DecisionTreeClassifier()\n",
    "dt_model.fit(x_train,y_train)"
   ]
  },
  {
   "cell_type": "code",
   "execution_count": 25,
   "id": "b5142888",
   "metadata": {},
   "outputs": [
    {
     "name": "stdout",
     "output_type": "stream",
     "text": [
      "Accuracy : 95.60975609756098\n",
      "Precision : 94.33962264150944\n",
      "Recall : 97.0873786407767\n",
      "F-1 Score : 95.69377990430623\n",
      "\n",
      "\n",
      "              precision    recall  f1-score   support\n",
      "\n",
      "           0       0.97      0.94      0.96       102\n",
      "           1       0.94      0.97      0.96       103\n",
      "\n",
      "    accuracy                           0.96       205\n",
      "   macro avg       0.96      0.96      0.96       205\n",
      "weighted avg       0.96      0.96      0.96       205\n",
      "\n"
     ]
    }
   ],
   "source": [
    "dt_y_predict = dt_model.predict(x_test)\n",
    "\n",
    "dt_accuracy = accuracy_score(dt_y_predict,y_test)\n",
    "print(\"Accuracy : \" + str(dt_accuracy*100))\n",
    "\n",
    "dt_precision_positive = metrics.precision_score(y_test, dt_y_predict, pos_label=1)\n",
    "print(\"Precision : \" + str(dt_precision_positive*100))\n",
    "\n",
    "dt_recall_sensitivity = metrics.recall_score(y_test, dt_y_predict, pos_label=1)\n",
    "print(\"Recall : \" + str(dt_recall_sensitivity*100))\n",
    "\n",
    "dt_f1_positive = metrics.f1_score(y_test, dt_y_predict, pos_label=1)\n",
    "print(\"F-1 Score : \" + str(dt_f1_positive*100))\n",
    "\n",
    "print('\\n')\n",
    "print(metrics.classification_report(y_test, dt_y_predict))"
   ]
  },
  {
   "cell_type": "markdown",
   "id": "d4c10880",
   "metadata": {},
   "source": [
    "### Random Forest"
   ]
  },
  {
   "cell_type": "code",
   "execution_count": 26,
   "id": "abba46a5",
   "metadata": {},
   "outputs": [
    {
     "data": {
      "text/plain": [
       "RandomForestClassifier()"
      ]
     },
     "execution_count": 26,
     "metadata": {},
     "output_type": "execute_result"
    }
   ],
   "source": [
    "from sklearn.ensemble import RandomForestClassifier\n",
    "rf_model = RandomForestClassifier()\n",
    "rf_model.fit(x_train,y_train)"
   ]
  },
  {
   "cell_type": "code",
   "execution_count": 27,
   "id": "a34a7a8a",
   "metadata": {},
   "outputs": [
    {
     "name": "stdout",
     "output_type": "stream",
     "text": [
      "Accuracy : 98.53658536585365\n",
      "Precision : 100.0\n",
      "Recall : 97.0873786407767\n",
      "F-1 Score : 98.52216748768473\n",
      "\n",
      "\n",
      "              precision    recall  f1-score   support\n",
      "\n",
      "           0       0.97      1.00      0.99       102\n",
      "           1       1.00      0.97      0.99       103\n",
      "\n",
      "    accuracy                           0.99       205\n",
      "   macro avg       0.99      0.99      0.99       205\n",
      "weighted avg       0.99      0.99      0.99       205\n",
      "\n"
     ]
    }
   ],
   "source": [
    "rf_y_predict = rf_model.predict(x_test)\n",
    "\n",
    "rf_accuracy = accuracy_score(rf_y_predict,y_test)\n",
    "print(\"Accuracy : \" + str(rf_accuracy*100))\n",
    "\n",
    "rf_precision_positive = metrics.precision_score(y_test, rf_y_predict, pos_label=1)\n",
    "print(\"Precision : \" + str(rf_precision_positive*100))\n",
    "\n",
    "rf_recall_sensitivity = metrics.recall_score(y_test, rf_y_predict, pos_label=1)\n",
    "print(\"Recall : \" + str(rf_recall_sensitivity*100))\n",
    "\n",
    "rf_f1_positive = metrics.f1_score(y_test, rf_y_predict, pos_label=1)\n",
    "print(\"F-1 Score : \" + str(rf_f1_positive*100))\n",
    "\n",
    "print('\\n')\n",
    "print(metrics.classification_report(y_test, rf_y_predict))"
   ]
  },
  {
   "cell_type": "markdown",
   "id": "8c708f71",
   "metadata": {},
   "source": [
    "### SVM"
   ]
  },
  {
   "cell_type": "code",
   "execution_count": 28,
   "id": "ac26d935",
   "metadata": {},
   "outputs": [
    {
     "data": {
      "text/plain": [
       "SVC()"
      ]
     },
     "execution_count": 28,
     "metadata": {},
     "output_type": "execute_result"
    }
   ],
   "source": [
    "from sklearn.svm import SVC\n",
    "svc_model = SVC()\n",
    "svc_model.fit(x_train,y_train)"
   ]
  },
  {
   "cell_type": "code",
   "execution_count": 29,
   "id": "e36fefce",
   "metadata": {},
   "outputs": [
    {
     "name": "stdout",
     "output_type": "stream",
     "text": [
      "Accuracy : 87.3170731707317\n",
      "Precision : 84.070796460177\n",
      "Recall : 92.23300970873787\n",
      "F-1 Score : 87.96296296296296\n",
      "\n",
      "\n",
      "              precision    recall  f1-score   support\n",
      "\n",
      "           0       0.91      0.82      0.87       102\n",
      "           1       0.84      0.92      0.88       103\n",
      "\n",
      "    accuracy                           0.87       205\n",
      "   macro avg       0.88      0.87      0.87       205\n",
      "weighted avg       0.88      0.87      0.87       205\n",
      "\n"
     ]
    }
   ],
   "source": [
    "svc_y_predict = svc_model.predict(x_test)\n",
    "\n",
    "svc_accuracy = accuracy_score(svc_y_predict,y_test)\n",
    "print(\"Accuracy : \" + str(svc_accuracy*100))\n",
    "\n",
    "svc_precision_positive = metrics.precision_score(y_test, svc_y_predict, pos_label=1)\n",
    "print(\"Precision : \" + str(svc_precision_positive*100))\n",
    "\n",
    "svc_recall_sensitivity = metrics.recall_score(y_test, svc_y_predict, pos_label=1)\n",
    "print(\"Recall : \" + str(svc_recall_sensitivity*100))\n",
    "\n",
    "svc_f1_positive = metrics.f1_score(y_test, svc_y_predict, pos_label=1)\n",
    "print(\"F-1 Score : \" + str(svc_f1_positive*100))\n",
    "\n",
    "print('\\n')\n",
    "print(metrics.classification_report(y_test, svc_y_predict))"
   ]
  },
  {
   "cell_type": "markdown",
   "id": "5a85dbc1",
   "metadata": {},
   "source": [
    "### GNB"
   ]
  },
  {
   "cell_type": "code",
   "execution_count": 30,
   "id": "1718d9b6",
   "metadata": {},
   "outputs": [
    {
     "data": {
      "text/plain": [
       "GaussianNB()"
      ]
     },
     "execution_count": 30,
     "metadata": {},
     "output_type": "execute_result"
    }
   ],
   "source": [
    "from sklearn.naive_bayes import GaussianNB\n",
    "gnb_model = GaussianNB()\n",
    "gnb_model.fit(x_train,y_train)"
   ]
  },
  {
   "cell_type": "code",
   "execution_count": 31,
   "id": "40b082d5",
   "metadata": {},
   "outputs": [
    {
     "name": "stdout",
     "output_type": "stream",
     "text": [
      "Accuracy : 74.63414634146342\n",
      "Precision : 68.34532374100719\n",
      "Recall : 92.23300970873787\n",
      "F-1 Score : 78.51239669421487\n",
      "\n",
      "\n",
      "              precision    recall  f1-score   support\n",
      "\n",
      "           0       0.88      0.57      0.69       102\n",
      "           1       0.68      0.92      0.79       103\n",
      "\n",
      "    accuracy                           0.75       205\n",
      "   macro avg       0.78      0.75      0.74       205\n",
      "weighted avg       0.78      0.75      0.74       205\n",
      "\n"
     ]
    }
   ],
   "source": [
    "gnb_y_predict = gnb_model.predict(x_test)\n",
    "\n",
    "gnb_accuracy = accuracy_score(gnb_y_predict,y_test)\n",
    "print(\"Accuracy : \" + str(gnb_accuracy*100))\n",
    "\n",
    "gnb_precision_positive = metrics.precision_score(y_test, gnb_y_predict, pos_label=1)\n",
    "print(\"Precision : \" + str(gnb_precision_positive*100))\n",
    "\n",
    "gnb_recall_sensitivity = metrics.recall_score(y_test, gnb_y_predict, pos_label=1)\n",
    "print(\"Recall : \" + str(gnb_recall_sensitivity*100))\n",
    "\n",
    "gnb_f1_positive = metrics.f1_score(y_test, gnb_y_predict, pos_label=1)\n",
    "print(\"F-1 Score : \" + str(gnb_f1_positive*100))\n",
    "\n",
    "print('\\n')\n",
    "print(metrics.classification_report(y_test, gnb_y_predict))"
   ]
  },
  {
   "cell_type": "markdown",
   "id": "f5f5f72f",
   "metadata": {},
   "source": [
    "### KNN"
   ]
  },
  {
   "cell_type": "code",
   "execution_count": 32,
   "id": "d97faf9d",
   "metadata": {},
   "outputs": [
    {
     "data": {
      "text/plain": [
       "KNeighborsClassifier()"
      ]
     },
     "execution_count": 32,
     "metadata": {},
     "output_type": "execute_result"
    }
   ],
   "source": [
    "from sklearn.neighbors import KNeighborsClassifier  \n",
    "knn_model = KNeighborsClassifier(n_neighbors=5, metric='minkowski', p=2 )  \n",
    "knn_model.fit(x_train, y_train) "
   ]
  },
  {
   "cell_type": "code",
   "execution_count": 33,
   "id": "40e8121c",
   "metadata": {},
   "outputs": [
    {
     "name": "stdout",
     "output_type": "stream",
     "text": [
      "Accuracy : 81.95121951219512\n",
      "Precision : 77.96610169491525\n",
      "Recall : 89.32038834951457\n",
      "F-1 Score : 83.25791855203619\n",
      "\n",
      "\n",
      "              precision    recall  f1-score   support\n",
      "\n",
      "           0       0.87      0.75      0.80       102\n",
      "           1       0.78      0.89      0.83       103\n",
      "\n",
      "    accuracy                           0.82       205\n",
      "   macro avg       0.83      0.82      0.82       205\n",
      "weighted avg       0.83      0.82      0.82       205\n",
      "\n"
     ]
    }
   ],
   "source": [
    "knn_y_predict = knn_model.predict(x_test)\n",
    "\n",
    "knn_accuracy = accuracy_score(knn_y_predict,y_test)\n",
    "print(\"Accuracy : \" + str(knn_accuracy*100))\n",
    "\n",
    "knn_precision_positive = metrics.precision_score(y_test, knn_y_predict, pos_label=1)\n",
    "print(\"Precision : \" + str(knn_precision_positive*100))\n",
    "\n",
    "knn_recall_sensitivity = metrics.recall_score(y_test, knn_y_predict, pos_label=1)\n",
    "print(\"Recall : \" + str(knn_recall_sensitivity*100))\n",
    "\n",
    "knn_f1_positive = metrics.f1_score(y_test, knn_y_predict, pos_label=1)\n",
    "print(\"F-1 Score : \" + str(knn_f1_positive*100))\n",
    "\n",
    "print('\\n')\n",
    "print(metrics.classification_report(y_test, knn_y_predict))"
   ]
  },
  {
   "cell_type": "code",
   "execution_count": 34,
   "id": "6e9bf15b",
   "metadata": {},
   "outputs": [],
   "source": [
    "from sklearn.metrics import roc_curve\n",
    "\n",
    "# roc curve for models\n",
    "fpr1, tpr1, thresh1 = roc_curve(y_test, lr_y_predict, pos_label=1)\n",
    "fpr2, tpr2, thresh2 = roc_curve(y_test, dt_y_predict, pos_label=1)\n",
    "fpr3, tpr3, thresh3 = roc_curve(y_test, rf_y_predict, pos_label=1)\n",
    "fpr4, tpr4, thresh4 = roc_curve(y_test, svc_y_predict, pos_label=1)\n",
    "fpr5, tpr5, thresh5 = roc_curve(y_test, gnb_y_predict, pos_label=1)\n",
    "fpr6, tpr6, thresh6 = roc_curve(y_test, knn_y_predict, pos_label=1)\n",
    "\n",
    "# roc curve for tpr = fpr \n",
    "random_probs = [0 for i in range(len(y_test))]\n",
    "p_fpr, p_tpr, _ = roc_curve(y_test, random_probs, pos_label=1)"
   ]
  },
  {
   "cell_type": "code",
   "execution_count": 35,
   "id": "9794be66",
   "metadata": {},
   "outputs": [
    {
     "name": "stdout",
     "output_type": "stream",
     "text": [
      "0.8288596992194937 0.956025128498001\n"
     ]
    }
   ],
   "source": [
    "from sklearn.metrics import roc_auc_score\n",
    "\n",
    "# auc scores\n",
    "auc_score1 = roc_auc_score(y_test, lr_y_predict)\n",
    "auc_score2 = roc_auc_score(y_test, dt_y_predict)\n",
    "auc_score3 = roc_auc_score(y_test, rf_y_predict)\n",
    "auc_score4 = roc_auc_score(y_test, svc_y_predict)\n",
    "auc_score5 = roc_auc_score(y_test, gnb_y_predict)\n",
    "auc_score6 = roc_auc_score(y_test, knn_y_predict)\n",
    "\n",
    "print(auc_score1, auc_score2)"
   ]
  },
  {
   "cell_type": "code",
   "execution_count": 36,
   "id": "d7dc0077",
   "metadata": {},
   "outputs": [
    {
     "data": {
      "image/png": "[encoded data removed]",
      "text/plain": [
       "<Figure size 576x396 with 1 Axes>"
      ]
     },
     "metadata": {},
     "output_type": "display_data"
    }
   ],
   "source": [
    "# matplotlib\n",
    "import matplotlib.pyplot as plt\n",
    "plt.style.use('seaborn')\n",
    "\n",
    "# plot roc curves\n",
    "plt.plot(fpr1, tpr1, linestyle='--',color='orange', label='Logistic Regression')\n",
    "plt.plot(fpr2, tpr2, linestyle='--',color='green', label='DT')\n",
    "plt.plot(fpr3, tpr3, linestyle='--',color='red', label='RF')\n",
    "plt.plot(fpr4, tpr4, linestyle='--',color='black', label='SVM')\n",
    "plt.plot(fpr5, tpr5, linestyle='--',color='grey', label='GNB')\n",
    "plt.plot(fpr6, tpr6, linestyle='--',color='purple', label='KNN')\n",
    "\n",
    "plt.plot(p_fpr, p_tpr, linestyle='--', color='blue')\n",
    "# title\n",
    "plt.title('ROC curve')\n",
    "# x label\n",
    "plt.xlabel('False Positive Rate')\n",
    "# y label\n",
    "plt.ylabel('True Positive rate')\n",
    "\n",
    "plt.legend(loc='best')\n",
    "plt.savefig('ROC',dpi=300)\n",
    "plt.show();"
   ]
  },
  {
   "cell_type": "code",
   "execution_count": null,
   "id": "e4529358",
   "metadata": {},
   "outputs": [],
   "source": []
  }
 ],
 "metadata": {
  "kernelspec": {
   "display_name": "Python 3 (ipykernel)",
   "language": "python",
   "name": "python3"
  },
  "language_info": {
   "codemirror_mode": {
    "name": "ipython",
    "version": 3
   },
   "file_extension": ".py",
   "mimetype": "text/x-python",
   "name": "python",
   "nbconvert_exporter": "python",
   "pygments_lexer": "ipython3",
   "version": "3.9.7"
  }
 },
 "nbformat": 4,
 "nbformat_minor": 5
}
